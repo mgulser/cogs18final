{
 "cells": [
  {
   "cell_type": "markdown",
   "metadata": {},
   "source": [
    "# MovieBot - Project Description"
   ]
  },
  {
   "cell_type": "markdown",
   "metadata": {},
   "source": [
    "The objective of my project was to create a chatbot by using some of the tools we worked on in the A3 assignment, and adding new functionalities to make it specialize in giving information about movies.\n",
    "\n",
    "The chatbot has functionalities that allow it to suggest random movies to watch, list some popular movie titles and give information about a number of movies about their IMDB rating, plot description and the year they were released. It can also give an opinion about those movies and whether or not it recommends them to the person talking to the chatbot. \n",
    "\n",
    "These are accomplished with a number of functions that are executed if some keywords such as \"information\",\"list\" or \"quit' are present in the input that's typed in the chatbox. If those keywords are present, the relevant function is executed and if the keywords aren't present then the program returns a random answer."
   ]
  },
  {
   "cell_type": "markdown",
   "metadata": {},
   "source": [
    "## Project Code\n",
    "\n",
    "If it makes sense for your project, you can have code and outputs here in the notebook as well."
   ]
  },
  {
   "cell_type": "code",
   "execution_count": 1,
   "metadata": {},
   "outputs": [],
   "source": [
    "from my_module import my_functions as fn\n",
    "import string\n",
    "import random"
   ]
  },
  {
   "cell_type": "code",
   "execution_count": 2,
   "metadata": {},
   "outputs": [],
   "source": [
    "def have_a_chat():\n",
    "    \"\"\" Main function to run the chatbot that combines all functions in the module\n",
    "    \n",
    "    Input\n",
    "    -------\n",
    "    msg = str\n",
    "        Input typed to the chatbox\n",
    "        \n",
    "    Returns\n",
    "    -------\n",
    "    out_msg = str\n",
    "            The output depends on which function got executed, and which\n",
    "            keywords were in the typed input          \n",
    "    \"\"\"\n",
    "    \n",
    "    chat = True\n",
    "    \n",
    "    while chat:\n",
    "        \n",
    "        # default message that appears every time\n",
    "        msg = input(\"Hello, I'm MovieBot! Ask me about movies!\")\n",
    "        out_msg = None\n",
    "        \n",
    "        # checks if the typed input is a question\n",
    "        question = fn.is_question(msg)\n",
    "        \n",
    "        # prepares the text and turns string into a list\n",
    "        msg = fn.prepare_text(msg)\n",
    "        \n",
    "        # quits chat\n",
    "        if fn.end_chat(msg):\n",
    "            out_msg = \"Bye! Have a great day!\"\n",
    "            chat = False\n",
    "          \n",
    "        if not out_msg:\n",
    "            \n",
    "            # suggests random movie\n",
    "            if fn.movie_suggestion(msg):\n",
    "                out_msg = fn.movie_suggestion(msg)\n",
    "                \n",
    "            # checks if the movie was \"seen\" by MovieBot    \n",
    "            if \"seen\" in msg:\n",
    "                out_msg = fn.watched_or_not(msg)\n",
    "            \n",
    "            # gives info about movie (title,rating,preference etc.)\n",
    "            if \"information\" in msg:\n",
    "            \n",
    "                final_movie = fn.prep_movie_name(input(\"What's the name of the movie you want to learn more about\"))\n",
    "                out_msg = fn.movie_info(final_movie, input(\"Would you like to learn more about its rating, description, the year it was released or my thoughts on it? \"))\n",
    "            \n",
    "            # lists a number of movies\n",
    "            if \"list\" in msg: \n",
    "                out_msg = fn.list_all_movies(msg)\n",
    "             \n",
    "            # responds to greeting words\n",
    "            if fn.greeting(msg):\n",
    "                out_msg = fn.greeting(msg)\n",
    "                \n",
    "                \n",
    "        if not out_msg and question:\n",
    "            # returns the default answer for non-answered questions\n",
    "            out_msg = fn.question_answers\n",
    "\n",
    "        if not out_msg:\n",
    "            out_msg = random.choice(fn.any_answer) # returns random response\n",
    "            \n",
    "            \n",
    "        print(out_msg)"
   ]
  },
  {
   "cell_type": "code",
   "execution_count": 3,
   "metadata": {
    "scrolled": false
   },
   "outputs": [
    {
     "name": "stdout",
     "output_type": "stream",
     "text": [
      "Hello, I'm MovieBot! Ask me about movies!Hey!\n",
      "Welcome! I'm excited to chat with you about movies!\n",
      "Hello, I'm MovieBot! Ask me about movies!What movie should I watch tonight MovieBot?\n",
      "How about Rocketman?\n",
      "Hello, I'm MovieBot! Ask me about movies!Cool!\n",
      "Okay\n",
      "Hello, I'm MovieBot! Ask me about movies!Can I get some information about other movies?\n",
      "What's the name of the movie you want to learn more aboutArrival\n",
      "Would you like to learn more about its rating, description, the year it was released or my thoughts on it? description\n",
      "A linguist works with the military to communicate with alien lifeforms after twelve mysterious spacecraft appear around the world.\n",
      "Hello, I'm MovieBot! Ask me about movies!Have you seen Arrival?\n",
      "Yes! I have seen arrival!\n",
      "Hello, I'm MovieBot! Ask me about movies!Can you list all the movies you've seen?\n",
      "['booksmart', 'avengers: endgame', 'aladdin', 'shazam', 'rocketman', 'arrival']\n",
      "Hello, I'm MovieBot! Ask me about movies!Can you answer any question?\n",
      "Unfortunately I don't have an answer for everything :( What else do you want to talk about?\n",
      "Hello, I'm MovieBot! Ask me about movies!Can I get some more information about current popular movies?\n",
      "What's the name of the movie you want to learn more aboutBooksmart\n",
      "Would you like to learn more about its rating, description, the year it was released or my thoughts on it? thoughts\n",
      "I loved this movie! You should definitely give it a shot!\n",
      "Hello, I'm MovieBot! Ask me about movies!Cool! Thank you!\n",
      "Sure.\n",
      "Hello, I'm MovieBot! Ask me about movies!quit\n",
      "Bye! Have a great day!\n"
     ]
    }
   ],
   "source": [
    "have_a_chat()"
   ]
  },
  {
   "cell_type": "code",
   "execution_count": null,
   "metadata": {},
   "outputs": [],
   "source": []
  }
 ],
 "metadata": {
  "kernelspec": {
   "display_name": "Python 3",
   "language": "python",
   "name": "python3"
  },
  "language_info": {
   "codemirror_mode": {
    "name": "ipython",
    "version": 3
   },
   "file_extension": ".py",
   "mimetype": "text/x-python",
   "name": "python",
   "nbconvert_exporter": "python",
   "pygments_lexer": "ipython3",
   "version": "3.6.7"
  }
 },
 "nbformat": 4,
 "nbformat_minor": 2
}
